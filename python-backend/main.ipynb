{
 "cells": [
  {
   "cell_type": "code",
   "execution_count": 1,
   "metadata": {},
   "outputs": [
    {
     "name": "stdout",
     "output_type": "stream",
     "text": [
      "API Key: 94qBncUdTm6NimoIhmIE2LdK25SUXjwVQ9ylYKSzyTwNEU5aQrwjJQQJ99BCACYeBjFXJ3w3AAAAACOG5yh9\n",
      "API Version: 2025-01-01-preview\n",
      "Azure Endpoint: https://vinaycaihub9236577939.cognitiveservices.azure.com\n",
      "Azure Deployment: gpt-4o\n"
     ]
    }
   ],
   "source": [
    "from openai import AsyncAzureOpenAI\n",
    "from agents import set_default_openai_client\n",
    "from dotenv import load_dotenv\n",
    "import os\n",
    "from agents import Agent, HandoffInputData, Runner, function_tool, handoff, trace, set_default_openai_client, set_tracing_disabled, OpenAIChatCompletionsModel, set_tracing_export_api_key, add_trace_processor\n",
    "\n",
    "\n",
    "# Load environment variables\n",
    "load_dotenv()\n",
    "\n",
    "# Create OpenAI client using Azure OpenAI\n",
    "openai_client = AsyncAzureOpenAI(\n",
    "    api_key=os.getenv(\"AZURE_OPENAI_API_KEY\"),\n",
    "    api_version=os.getenv(\"AZURE_OPENAI_API_VERSION\"),\n",
    "    azure_endpoint=os.getenv(\"AZURE_OPENAI_ENDPOINT\",\"\"),\n",
    "    azure_deployment=os.getenv(\"AZURE_OPENAI_DEPLOYMENT\")\n",
    ")\n",
    "\n",
    "# print credentials\n",
    "print(f\"API Key: {os.getenv('AZURE_OPENAI_API_KEY')}\")\n",
    "print(f\"API Version: {os.getenv('AZURE_OPENAI_API_VERSION')}\")\n",
    "print(f\"Azure Endpoint: {os.getenv('AZURE_OPENAI_ENDPOINT')}\")\n",
    "print(f\"Azure Deployment: {os.getenv('AZURE_OPENAI_DEPLOYMENT')}\")\n",
    "\n",
    "# Set the default OpenAI client for the Agents SDK\n",
    "set_default_openai_client(openai_client)\n",
    "set_tracing_export_api_key(os.getenv(\"OPENAI_API_KEY\",\"\"))\n",
    "\n",
    "set_tracing_disabled(False)"
   ]
  },
  {
   "cell_type": "code",
   "execution_count": 2,
   "id": "1011ccc7",
   "metadata": {},
   "outputs": [],
   "source": [
    "joke_agent = Agent(\n",
    "    name=\"Joke Assistant\",\n",
    "    instructions=\"You are a funny joke teller.\",\n",
    "    model=OpenAIChatCompletionsModel(\n",
    "        model=\"gpt-4.1\",\n",
    "        openai_client=openai_client\n",
    "    ),\n",
    ")"
   ]
  },
  {
   "cell_type": "code",
   "execution_count": 3,
   "id": "7e334a96",
   "metadata": {},
   "outputs": [
    {
     "name": "stdout",
     "output_type": "stream",
     "text": [
      "\n",
      "Response: Sure! How about this one:\n",
      "\n",
      "Why don’t skeletons fight each other?  \n",
      "Because they don’t have the guts! 😄\n",
      "\n"
     ]
    }
   ],
   "source": [
    "# Trace the entire run as a single workflow\n",
    "with trace(workflow_name=\"Demo\"):\n",
    "    result = await Runner.run(joke_agent, input=\"Tell me a joke.\")\n",
    "    print(f\"\\nResponse: {result.final_output}\\n\")"
   ]
  },
  {
   "cell_type": "code",
   "execution_count": null,
   "id": "63ced8e2",
   "metadata": {},
   "outputs": [],
   "source": []
  },
  {
   "cell_type": "code",
   "execution_count": null,
   "id": "bcdd272d",
   "metadata": {},
   "outputs": [],
   "source": []
  }
 ],
 "metadata": {
  "kernelspec": {
   "display_name": "Python 3",
   "language": "python",
   "name": "python3"
  },
  "language_info": {
   "codemirror_mode": {
    "name": "ipython",
    "version": 3
   },
   "file_extension": ".py",
   "mimetype": "text/x-python",
   "name": "python",
   "nbconvert_exporter": "python",
   "pygments_lexer": "ipython3",
   "version": "3.10.11"
  }
 },
 "nbformat": 4,
 "nbformat_minor": 5
}
